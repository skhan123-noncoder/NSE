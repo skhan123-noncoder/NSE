{
 "cells": [
  {
   "cell_type": "code",
   "execution_count": 3,
   "id": "7cae3e81",
   "metadata": {},
   "outputs": [
    {
     "name": "stdout",
     "output_type": "stream",
     "text": [
      "0    143.094284\n",
      "1    145.236252\n",
      "2    146.879059\n",
      "3    138.560898\n",
      "4    140.598816\n",
      "Name: close, dtype: float64\n"
     ]
    }
   ],
   "source": [
    "import os\n",
    "import pandas as pd\n",
    "import datetime\n",
    "import yfinance as yf\n",
    "\n",
    "os.chdir(\"/bi/home/khans/NSE_parent/test_datasets/\")\n",
    "for each in os.listdir():\n",
    "    symbol = each.split(\"_\")[0]\n",
    "    df = pd.read_csv(each)\n",
    "\n",
    "# Get the last entry and increase by 1 day\n",
    "    start_date = datetime.datetime.strptime(((df.iloc[-1]).date), '%Y-%m-%d')\n",
    "    start_date += datetime.timedelta(days=1)\n",
    "    \n",
    "# Get today's date\n",
    "    today = datetime.date.today().strftime('%Y-%m-%d')\n",
    "\n",
    "#Check if the data is already imported\n",
    "    if start_date.strftime('%Y-%m-%d') == datetime.date.today().strftime('%Y-%m-%d'):\n",
    "        print(\"same\")\n",
    "    else:\n",
    "        ticker = yf.Ticker(symbol)\n",
    "        data = ticker.history(start=start_date, end=datetime.date.today().strftime('%Y-%m-%d'))\n",
    "        data.reset_index(inplace=True)\n",
    "\n",
    "# Check if the 'Date' column is of datetime type\n",
    "        if pd.api.types.is_datetime64_any_dtype(data['Date']):\n",
    "            data['Date'] = data['Date'].dt.strftime('%Y-%m-%d')\n",
    "    \n",
    "# Convert other column names to lowercase\n",
    "        data.columns = [col.lower() for col in data.columns]\n",
    "\n",
    "#Add the new rows to the existing df\n",
    "        df_new = pd.concat([df, data], ignore_index=True)\n",
    "        print(df_new.tail())\n",
    "\n",
    "        df_new.to_csv(f'{symbol}_data.csv', index=False)\n",
    "\n"
   ]
  }
 ],
 "metadata": {
  "kernelspec": {
   "display_name": "trading_kernel",
   "language": "python",
   "name": "trading_kernel"
  },
  "language_info": {
   "codemirror_mode": {
    "name": "ipython",
    "version": 3
   },
   "file_extension": ".py",
   "mimetype": "text/x-python",
   "name": "python",
   "nbconvert_exporter": "python",
   "pygments_lexer": "ipython3",
   "version": "3.7.7"
  }
 },
 "nbformat": 4,
 "nbformat_minor": 5
}
